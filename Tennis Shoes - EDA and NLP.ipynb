{
 "cells": [
  {
   "cell_type": "markdown",
   "id": "ee23adfe",
   "metadata": {},
   "source": [
    "# Tennis Shoes Analysis"
   ]
  },
  {
   "cell_type": "markdown",
   "id": "05cc6e53",
   "metadata": {},
   "source": [
    "## Loading Packages"
   ]
  },
  {
   "cell_type": "code",
   "execution_count": 1,
   "id": "0fcf6c4f",
   "metadata": {},
   "outputs": [
    {
     "name": "stderr",
     "output_type": "stream",
     "text": [
      "[nltk_data] Downloading package punkt to\n",
      "[nltk_data]     C:\\Users\\Rahul\\AppData\\Roaming\\nltk_data...\n",
      "[nltk_data]   Package punkt is already up-to-date!\n"
     ]
    }
   ],
   "source": [
    "import requests\n",
    "from bs4 import BeautifulSoup\n",
    "import pandas as pd\n",
    "import numpy as np\n",
    "import warnings\n",
    "warnings.filterwarnings('ignore')\n",
    "import matplotlib.pyplot as plt\n",
    "import seaborn as sns\n",
    "sns.set()\n",
    "\n",
    "#NLP Packages\n",
    "import nltk\n",
    "nltk.download('punkt')\n",
    "from transformers import AutoTokenizer\n",
    "from transformers import AutoModelForSequenceClassification\n",
    "from scipy.special import softmax\n",
    "from nltk.corpus import stopwords\n",
    "from nltk.tokenize import word_tokenize\n",
    "from tqdm.notebook import tqdm\n",
    "\n",
    "pd.set_option('max_colwidth', None)"
   ]
  },
  {
   "cell_type": "markdown",
   "id": "0ee3f73f",
   "metadata": {},
   "source": [
    "Establishing the brand webpages to scrape from"
   ]
  },
  {
   "cell_type": "code",
   "execution_count": 2,
   "id": "9f3671bf",
   "metadata": {},
   "outputs": [],
   "source": [
    "headers = {\n",
    "    'User-Agent': 'https://developers.whatismybrowser.com/useragents/parse/1252728chrome-windows-blink' \n",
    "}\n",
    "\n",
    "brand_urls = ['https://www.tennis-warehouse.com/Nike_Tennis_Shoes/catpage-MSNIKE.html',\n",
    "              'https://www.tennis-warehouse.com/adidas_Mens_Tennis_Shoes/catpage-MSADIDAS.html',\n",
    "              'https://www.tennis-warehouse.com/Asics_Mens_Tennis_Shoes/catpage-MSASICS.html',\n",
    "              'https://www.tennis-warehouse.com/Babolat_Mens_Tennis_Shoes/catpage-MSBAB.html',\n",
    "              'https://www.tennis-warehouse.com/New_Balance_Mens_Tennis_Shoes/catpage-MSNEWBAL.html']"
   ]
  },
  {
   "cell_type": "markdown",
   "id": "a226bc3e",
   "metadata": {},
   "source": [
    "Within the brand urls, I scrape the urls for each shoe group within the brands. "
   ]
  },
  {
   "cell_type": "code",
   "execution_count": 3,
   "id": "89b55130",
   "metadata": {},
   "outputs": [],
   "source": [
    "group_urls = []\n",
    "for url in brand_urls:\n",
    "\n",
    "    page = requests.get(url, headers = headers).text\n",
    "    soup=BeautifulSoup(page,'html.parser')\n",
    "    shoe_group = soup.find_all('a',{'class':'ga_event', 'data-trackcategory':'Profiler'})\n",
    "    for group in shoe_group:\n",
    "        group_url = group.get('href')\n",
    "        group_url = 'https://www.tennis-warehouse.com'+str(group_url)\n",
    "        group_urls.append(group_url)"
   ]
  },
  {
   "cell_type": "code",
   "execution_count": 4,
   "id": "e121a3da",
   "metadata": {
    "scrolled": false
   },
   "outputs": [],
   "source": [
    "group_urls = [x for x in group_urls if '2E' not in x \n",
    "             and '4E' not in x and 'D_Width' not in x]"
   ]
  },
  {
   "cell_type": "markdown",
   "id": "5513bb80",
   "metadata": {},
   "source": [
    "### Creating a Shoe URL Dataframe\n",
    "Using the shoe group urls above, I will scrape the individual urls for each shoe within the shoe groups"
   ]
  },
  {
   "cell_type": "code",
   "execution_count": 5,
   "id": "537aa2c4",
   "metadata": {
    "scrolled": false
   },
   "outputs": [],
   "source": [
    "data = []\n",
    "for group_url in group_urls:\n",
    "    \n",
    "    page = requests.get(group_url, headers = headers).text\n",
    "    soup=BeautifulSoup(page,'html.parser')\n",
    "    \n",
    "    title_info = soup.find('header', {'class':'catheader'})\n",
    "    title = title_info.text\n",
    "\n",
    "    shoe_list = soup.find_all('a' ,{'class':\"cattable-wrap-cell-info\"})\n",
    "    for shoe in shoe_list:\n",
    "        shoe_url = shoe.get('href')\n",
    "        \n",
    "        shoe_dict = {'Shoe Group': title, 'Product Link': shoe_url}\n",
    "        data.append(shoe_dict)"
   ]
  },
  {
   "cell_type": "code",
   "execution_count": 6,
   "id": "8b43204a",
   "metadata": {},
   "outputs": [
    {
     "data": {
      "text/html": [
       "<div>\n",
       "<style scoped>\n",
       "    .dataframe tbody tr th:only-of-type {\n",
       "        vertical-align: middle;\n",
       "    }\n",
       "\n",
       "    .dataframe tbody tr th {\n",
       "        vertical-align: top;\n",
       "    }\n",
       "\n",
       "    .dataframe thead th {\n",
       "        text-align: right;\n",
       "    }\n",
       "</style>\n",
       "<table border=\"1\" class=\"dataframe\">\n",
       "  <thead>\n",
       "    <tr style=\"text-align: right;\">\n",
       "      <th></th>\n",
       "      <th>Shoe Group</th>\n",
       "      <th>Product Link</th>\n",
       "    </tr>\n",
       "  </thead>\n",
       "  <tbody>\n",
       "    <tr>\n",
       "      <th>95</th>\n",
       "      <td>New Balance MC 1006 Men's Tennis Shoes</td>\n",
       "      <td>https://www.tennis-warehouse.com/New_Balance_MC_1006_4E_Black_Silver/descpageMSNB-M106BS4.html</td>\n",
       "    </tr>\n",
       "    <tr>\n",
       "      <th>96</th>\n",
       "      <td>New Balance MC 1006 Men's Tennis Shoes</td>\n",
       "      <td>https://www.tennis-warehouse.com/New_Balance_MC_1006_D_Wh_Navy/descpageMSNB-M106WND.html</td>\n",
       "    </tr>\n",
       "    <tr>\n",
       "      <th>97</th>\n",
       "      <td>New Balance MC 1006 Men's Tennis Shoes</td>\n",
       "      <td>https://www.tennis-warehouse.com/New_Balance_MC_1006_2E_Wh_Navy/descpageMSNB-M106WN2.html</td>\n",
       "    </tr>\n",
       "    <tr>\n",
       "      <th>98</th>\n",
       "      <td>New Balance MC 1006 Men's Tennis Shoes</td>\n",
       "      <td>https://www.tennis-warehouse.com/New_Balance_MC_1006_4E_Wh_Navy/descpageMSNB-M106WN4.html</td>\n",
       "    </tr>\n",
       "    <tr>\n",
       "      <th>99</th>\n",
       "      <td>New Balance MC 806 Men's Tennis Shoes</td>\n",
       "      <td>https://www.tennis-warehouse.com/New_Balance_MC_806_W_D/descpageMSNB-MC806WD.html</td>\n",
       "    </tr>\n",
       "  </tbody>\n",
       "</table>\n",
       "</div>"
      ],
      "text/plain": [
       "                                  Shoe Group  \\\n",
       "95   New Balance MC 1006 Men's Tennis Shoes    \n",
       "96   New Balance MC 1006 Men's Tennis Shoes    \n",
       "97   New Balance MC 1006 Men's Tennis Shoes    \n",
       "98   New Balance MC 1006 Men's Tennis Shoes    \n",
       "99    New Balance MC 806 Men's Tennis Shoes    \n",
       "\n",
       "                                                                                      Product Link  \n",
       "95  https://www.tennis-warehouse.com/New_Balance_MC_1006_4E_Black_Silver/descpageMSNB-M106BS4.html  \n",
       "96        https://www.tennis-warehouse.com/New_Balance_MC_1006_D_Wh_Navy/descpageMSNB-M106WND.html  \n",
       "97       https://www.tennis-warehouse.com/New_Balance_MC_1006_2E_Wh_Navy/descpageMSNB-M106WN2.html  \n",
       "98       https://www.tennis-warehouse.com/New_Balance_MC_1006_4E_Wh_Navy/descpageMSNB-M106WN4.html  \n",
       "99               https://www.tennis-warehouse.com/New_Balance_MC_806_W_D/descpageMSNB-MC806WD.html  "
      ]
     },
     "execution_count": 6,
     "metadata": {},
     "output_type": "execute_result"
    }
   ],
   "source": [
    "shoe_df = pd.DataFrame(data)\n",
    "shoe_df.tail()"
   ]
  },
  {
   "cell_type": "code",
   "execution_count": 7,
   "id": "c74ab25f",
   "metadata": {},
   "outputs": [],
   "source": [
    "shoe_df['Shoe Group'] = shoe_df['Shoe Group'].str.replace('Men\\'s Tennis Shoes','')"
   ]
  },
  {
   "cell_type": "code",
   "execution_count": 8,
   "id": "df893181",
   "metadata": {},
   "outputs": [],
   "source": [
    "shoe_df = shoe_df[shoe_df['Product Link'].str.contains('tennis')]"
   ]
  },
  {
   "cell_type": "code",
   "execution_count": 9,
   "id": "431f9795",
   "metadata": {
    "scrolled": false
   },
   "outputs": [],
   "source": [
    "product_urls = shoe_df['Product Link'].tolist()"
   ]
  },
  {
   "cell_type": "markdown",
   "id": "747664cf",
   "metadata": {},
   "source": [
    "### Creating a Shoe Price Dataframe\n",
    "Using the product urls created above to retrieve the shoe name, price, rating, and # of reviews."
   ]
  },
  {
   "cell_type": "code",
   "execution_count": 10,
   "id": "b35d1b2f",
   "metadata": {},
   "outputs": [],
   "source": [
    "data = []\n",
    "for product in product_urls:\n",
    "    response = requests.get(product, headers = headers)\n",
    "    soup = BeautifulSoup(response.text, 'html.parser')\n",
    "    \n",
    "\n",
    "    title = soup.find('h1' ,{'class':'h2 desc_top-head-title', 'itemprop':'name'})\n",
    "    name = title.string\n",
    "    \n",
    "    price_info = soup.find('span', {'class':'afterpay-full_price'})\n",
    "    price = price_info.text\n",
    "\n",
    "    try:\n",
    "        rating_info = soup.find('div',{'class':'review_agg'})\n",
    "        rating = rating_info.text\n",
    "    except:\n",
    "        rating = np.nan\n",
    "    \n",
    "    try:\n",
    "        review_info = soup.find('a',{'id':'no-select'})\n",
    "        review_num = review_info.text\n",
    "    except:\n",
    "        review_num = np.nan\n",
    "    \n",
    "    shoe_dict = {'Shoe': name, 'Price': price, 'Rating': rating, 'Reviews': review_num, 'Product Link': product}\n",
    "    data.append(shoe_dict)"
   ]
  },
  {
   "cell_type": "code",
   "execution_count": 11,
   "id": "13177f4f",
   "metadata": {
    "scrolled": true
   },
   "outputs": [
    {
     "data": {
      "text/html": [
       "<div>\n",
       "<style scoped>\n",
       "    .dataframe tbody tr th:only-of-type {\n",
       "        vertical-align: middle;\n",
       "    }\n",
       "\n",
       "    .dataframe tbody tr th {\n",
       "        vertical-align: top;\n",
       "    }\n",
       "\n",
       "    .dataframe thead th {\n",
       "        text-align: right;\n",
       "    }\n",
       "</style>\n",
       "<table border=\"1\" class=\"dataframe\">\n",
       "  <thead>\n",
       "    <tr style=\"text-align: right;\">\n",
       "      <th></th>\n",
       "      <th>Shoe</th>\n",
       "      <th>Price</th>\n",
       "      <th>Rating</th>\n",
       "      <th>Reviews</th>\n",
       "      <th>Product Link</th>\n",
       "    </tr>\n",
       "  </thead>\n",
       "  <tbody>\n",
       "    <tr>\n",
       "      <th>93</th>\n",
       "      <td>New Balance MC 1006 4E Black/Silver</td>\n",
       "      <td>119.95</td>\n",
       "      <td>4.0</td>\n",
       "      <td>2 Reviews</td>\n",
       "      <td>https://www.tennis-warehouse.com/New_Balance_MC_1006_4E_Black_Silver/descpageMSNB-M106BS4.html</td>\n",
       "    </tr>\n",
       "    <tr>\n",
       "      <th>94</th>\n",
       "      <td>New Balance MC 1006 D Wh/Navy</td>\n",
       "      <td>119.95</td>\n",
       "      <td>4.0</td>\n",
       "      <td>2 Reviews</td>\n",
       "      <td>https://www.tennis-warehouse.com/New_Balance_MC_1006_D_Wh_Navy/descpageMSNB-M106WND.html</td>\n",
       "    </tr>\n",
       "    <tr>\n",
       "      <th>95</th>\n",
       "      <td>New Balance MC 1006 2E Wh/Navy</td>\n",
       "      <td>119.95</td>\n",
       "      <td>4.0</td>\n",
       "      <td>2 Reviews</td>\n",
       "      <td>https://www.tennis-warehouse.com/New_Balance_MC_1006_2E_Wh_Navy/descpageMSNB-M106WN2.html</td>\n",
       "    </tr>\n",
       "    <tr>\n",
       "      <th>96</th>\n",
       "      <td>New Balance MC 1006 4E Wh/Navy</td>\n",
       "      <td>119.95</td>\n",
       "      <td>4.0</td>\n",
       "      <td>2 Reviews</td>\n",
       "      <td>https://www.tennis-warehouse.com/New_Balance_MC_1006_4E_Wh_Navy/descpageMSNB-M106WN4.html</td>\n",
       "    </tr>\n",
       "    <tr>\n",
       "      <th>97</th>\n",
       "      <td>New Balance MC 806 W D</td>\n",
       "      <td>119.95</td>\n",
       "      <td>5.0</td>\n",
       "      <td>Submit a Review</td>\n",
       "      <td>https://www.tennis-warehouse.com/New_Balance_MC_806_W_D/descpageMSNB-MC806WD.html</td>\n",
       "    </tr>\n",
       "  </tbody>\n",
       "</table>\n",
       "</div>"
      ],
      "text/plain": [
       "                                   Shoe   Price Rating          Reviews  \\\n",
       "93  New Balance MC 1006 4E Black/Silver  119.95    4.0        2 Reviews   \n",
       "94        New Balance MC 1006 D Wh/Navy  119.95    4.0        2 Reviews   \n",
       "95       New Balance MC 1006 2E Wh/Navy  119.95    4.0        2 Reviews   \n",
       "96       New Balance MC 1006 4E Wh/Navy  119.95    4.0        2 Reviews   \n",
       "97               New Balance MC 806 W D  119.95    5.0  Submit a Review   \n",
       "\n",
       "                                                                                      Product Link  \n",
       "93  https://www.tennis-warehouse.com/New_Balance_MC_1006_4E_Black_Silver/descpageMSNB-M106BS4.html  \n",
       "94        https://www.tennis-warehouse.com/New_Balance_MC_1006_D_Wh_Navy/descpageMSNB-M106WND.html  \n",
       "95       https://www.tennis-warehouse.com/New_Balance_MC_1006_2E_Wh_Navy/descpageMSNB-M106WN2.html  \n",
       "96       https://www.tennis-warehouse.com/New_Balance_MC_1006_4E_Wh_Navy/descpageMSNB-M106WN4.html  \n",
       "97               https://www.tennis-warehouse.com/New_Balance_MC_806_W_D/descpageMSNB-MC806WD.html  "
      ]
     },
     "execution_count": 11,
     "metadata": {},
     "output_type": "execute_result"
    }
   ],
   "source": [
    "shoe_price = pd.DataFrame(data)\n",
    "shoe_price.tail()"
   ]
  },
  {
   "cell_type": "code",
   "execution_count": 12,
   "id": "b5708a8f",
   "metadata": {},
   "outputs": [
    {
     "data": {
      "text/plain": [
       "Nike         28\n",
       "Babolat      18\n",
       "adidas       16\n",
       "New          14\n",
       "NikeCourt    13\n",
       "Asics         9\n",
       "Name: Brand, dtype: int64"
      ]
     },
     "execution_count": 12,
     "metadata": {},
     "output_type": "execute_result"
    }
   ],
   "source": [
    "shoe_price['Brand'] = shoe_price['Shoe'].str.split(' ').str[0]\n",
    "shoe_price['Brand'].value_counts()"
   ]
  },
  {
   "cell_type": "code",
   "execution_count": 13,
   "id": "c8f512cd",
   "metadata": {},
   "outputs": [],
   "source": [
    "shoe_price['Brand'] = shoe_price['Brand'].str.replace('NikeCourt','Nike').str.replace('New','New Balance')"
   ]
  },
  {
   "cell_type": "markdown",
   "id": "c078a6d6",
   "metadata": {},
   "source": [
    "### Which shoes are on average the most expensive?"
   ]
  },
  {
   "cell_type": "code",
   "execution_count": 14,
   "id": "e35b89c5",
   "metadata": {},
   "outputs": [
    {
     "name": "stdout",
     "output_type": "stream",
     "text": [
      "<class 'pandas.core.frame.DataFrame'>\n",
      "RangeIndex: 98 entries, 0 to 97\n",
      "Data columns (total 6 columns):\n",
      " #   Column        Non-Null Count  Dtype \n",
      "---  ------        --------------  ----- \n",
      " 0   Shoe          98 non-null     object\n",
      " 1   Price         98 non-null     object\n",
      " 2   Rating        97 non-null     object\n",
      " 3   Reviews       98 non-null     object\n",
      " 4   Product Link  98 non-null     object\n",
      " 5   Brand         98 non-null     object\n",
      "dtypes: object(6)\n",
      "memory usage: 4.7+ KB\n"
     ]
    }
   ],
   "source": [
    "shoe_price.info()"
   ]
  },
  {
   "cell_type": "code",
   "execution_count": 16,
   "id": "329434b6",
   "metadata": {
    "scrolled": true
   },
   "outputs": [
    {
     "data": {
      "text/html": [
       "<div>\n",
       "<style scoped>\n",
       "    .dataframe tbody tr th:only-of-type {\n",
       "        vertical-align: middle;\n",
       "    }\n",
       "\n",
       "    .dataframe tbody tr th {\n",
       "        vertical-align: top;\n",
       "    }\n",
       "\n",
       "    .dataframe thead th {\n",
       "        text-align: right;\n",
       "    }\n",
       "</style>\n",
       "<table border=\"1\" class=\"dataframe\">\n",
       "  <thead>\n",
       "    <tr style=\"text-align: right;\">\n",
       "      <th></th>\n",
       "      <th>Brand</th>\n",
       "      <th>Price</th>\n",
       "    </tr>\n",
       "  </thead>\n",
       "  <tbody>\n",
       "    <tr>\n",
       "      <th>2</th>\n",
       "      <td>New Balance</td>\n",
       "      <td>132.817857</td>\n",
       "    </tr>\n",
       "    <tr>\n",
       "      <th>0</th>\n",
       "      <td>Asics</td>\n",
       "      <td>131.083333</td>\n",
       "    </tr>\n",
       "    <tr>\n",
       "      <th>3</th>\n",
       "      <td>Nike</td>\n",
       "      <td>112.524878</td>\n",
       "    </tr>\n",
       "    <tr>\n",
       "      <th>1</th>\n",
       "      <td>Babolat</td>\n",
       "      <td>112.483333</td>\n",
       "    </tr>\n",
       "    <tr>\n",
       "      <th>4</th>\n",
       "      <td>adidas</td>\n",
       "      <td>112.136250</td>\n",
       "    </tr>\n",
       "  </tbody>\n",
       "</table>\n",
       "</div>"
      ],
      "text/plain": [
       "         Brand       Price\n",
       "2  New Balance  132.817857\n",
       "0        Asics  131.083333\n",
       "3         Nike  112.524878\n",
       "1      Babolat  112.483333\n",
       "4       adidas  112.136250"
      ]
     },
     "execution_count": 16,
     "metadata": {},
     "output_type": "execute_result"
    }
   ],
   "source": [
    "shoe_price['Price'] = shoe_price['Price'].apply(pd.to_numeric, errors = 'ignore')\n",
    "avg_price = pd.DataFrame(shoe_price.groupby('Brand')['Price'].mean().reset_index().sort_values(by='Price', ascending=False))\n",
    "avg_price"
   ]
  },
  {
   "cell_type": "code",
   "execution_count": 17,
   "id": "eaeae886",
   "metadata": {},
   "outputs": [
    {
     "data": {
      "image/png": "[encoded data removed]",
      "text/plain": [
       "<Figure size 576x504 with 1 Axes>"
      ]
     },
     "metadata": {},
     "output_type": "display_data"
    }
   ],
   "source": [
    "figure = plt.figure(figsize=(8,7))\n",
    "plt.bar(avg_price['Brand'], avg_price['Price'], width=.6)\n",
    "plt.title('Average Price by Brand', fontsize=14)\n",
    "for i, v in enumerate(round(avg_price['Price'],1)):\n",
    "    plt.text(i-.17, v, str(v), color = 'black', \n",
    "             Bbox = dict(facecolor = 'cyan', alpha =.4, pad = 3))\n",
    "plt.show()"
   ]
  },
  {
   "cell_type": "markdown",
   "id": "1d4c455d",
   "metadata": {},
   "source": [
    "### Creating a Shoe Fit Dataframe\n",
    "Creating a dataframe that contains the shoe's fit attributes (i.e. length, width, weight, etc) using the list of shoe urls."
   ]
  },
  {
   "cell_type": "code",
   "execution_count": 18,
   "id": "3c2e759d",
   "metadata": {},
   "outputs": [],
   "source": [
    "dfs = []\n",
    "for product in product_urls:\n",
    "    response = requests.get(product, headers = headers)\n",
    "    soup = BeautifulSoup(response.text, 'html.parser')\n",
    "    \n",
    "    details = soup.find_all('div',{'class': 'desc_specs_wrap app_specs'})\n",
    "    try:\n",
    "        temp_df = pd.read_html(str(details))[0]\n",
    "        temp_df['Link'] = product\n",
    "        temp_df.columns = ['Category','Value', 'Product Link']\n",
    "        temp_df['Category'] = temp_df['Category'].str.replace(':','')\n",
    "        temp_df = temp_df.pivot(columns='Category', values = 'Value', index = 'Product Link').reset_index()\n",
    "        dfs.append(temp_df)\n",
    "    except:\n",
    "        pass\n",
    "    \n",
    "fit_df = pd.concat(dfs, ignore_index=True)"
   ]
  },
  {
   "cell_type": "code",
   "execution_count": 19,
   "id": "dba909d1",
   "metadata": {
    "scrolled": true
   },
   "outputs": [
    {
     "data": {
      "text/html": [
       "<div>\n",
       "<style scoped>\n",
       "    .dataframe tbody tr th:only-of-type {\n",
       "        vertical-align: middle;\n",
       "    }\n",
       "\n",
       "    .dataframe tbody tr th {\n",
       "        vertical-align: top;\n",
       "    }\n",
       "\n",
       "    .dataframe thead th {\n",
       "        text-align: right;\n",
       "    }\n",
       "</style>\n",
       "<table border=\"1\" class=\"dataframe\">\n",
       "  <thead>\n",
       "    <tr style=\"text-align: right;\">\n",
       "      <th>Category</th>\n",
       "      <th>Product Link</th>\n",
       "      <th>Arch</th>\n",
       "      <th>Break-in</th>\n",
       "      <th>Length</th>\n",
       "      <th>Weight</th>\n",
       "      <th>Width</th>\n",
       "      <th>Court Type</th>\n",
       "      <th>Durability Guarantee</th>\n",
       "      <th>Durability Gurantee</th>\n",
       "      <th>Surface</th>\n",
       "      <th>Durability</th>\n",
       "    </tr>\n",
       "  </thead>\n",
       "  <tbody>\n",
       "    <tr>\n",
       "      <th>0</th>\n",
       "      <td>https://www.tennis-warehouse.com/Nike_Air_Zoom_Vapor_Pro_Photo_Blue_Bone_Mens_Shoe/descpageMSNIKE-NMVPPBB.html</td>\n",
       "      <td>Slightly Low</td>\n",
       "      <td>Slight</td>\n",
       "      <td>True</td>\n",
       "      <td>12.9 ounces (size 10.5)</td>\n",
       "      <td>Medium</td>\n",
       "      <td>NaN</td>\n",
       "      <td>NaN</td>\n",
       "      <td>NaN</td>\n",
       "      <td>NaN</td>\n",
       "      <td>NaN</td>\n",
       "    </tr>\n",
       "    <tr>\n",
       "      <th>1</th>\n",
       "      <td>https://www.tennis-warehouse.com/Nike_Air_Zoom_Vapor_Pro_Bk_Mint_White_Mens_Shoe/descpageMSNIKE-NMVPBMW.html</td>\n",
       "      <td>Slightly Low</td>\n",
       "      <td>Slight</td>\n",
       "      <td>True</td>\n",
       "      <td>12.9 ounces (size 10.5)</td>\n",
       "      <td>Medium</td>\n",
       "      <td>NaN</td>\n",
       "      <td>NaN</td>\n",
       "      <td>NaN</td>\n",
       "      <td>NaN</td>\n",
       "      <td>NaN</td>\n",
       "    </tr>\n",
       "    <tr>\n",
       "      <th>2</th>\n",
       "      <td>https://www.tennis-warehouse.com/Nike_Air_Zoom_Vapor_Pro_White_Dynamic_Turq_Mens_Shoe/descpageMSNIKE-NMVPWD.html</td>\n",
       "      <td>Slightly Low</td>\n",
       "      <td>Slight</td>\n",
       "      <td>True</td>\n",
       "      <td>12.9 ounces (size 10.5)</td>\n",
       "      <td>Medium</td>\n",
       "      <td>NaN</td>\n",
       "      <td>NaN</td>\n",
       "      <td>NaN</td>\n",
       "      <td>NaN</td>\n",
       "      <td>NaN</td>\n",
       "    </tr>\n",
       "    <tr>\n",
       "      <th>3</th>\n",
       "      <td>https://www.tennis-warehouse.com/Nike_Air_Zoom_Vapor_Pro_White_Slate_Grey_Mens_Shoe/descpageMSNIKE-NMVPWSG.html</td>\n",
       "      <td>Slightly Low</td>\n",
       "      <td>Slight</td>\n",
       "      <td>True</td>\n",
       "      <td>12.9 ounces (size 10.5)</td>\n",
       "      <td>Medium</td>\n",
       "      <td>NaN</td>\n",
       "      <td>NaN</td>\n",
       "      <td>NaN</td>\n",
       "      <td>NaN</td>\n",
       "      <td>NaN</td>\n",
       "    </tr>\n",
       "    <tr>\n",
       "      <th>4</th>\n",
       "      <td>https://www.tennis-warehouse.com/Nike_Air_Zoom_Vapor_Pro_White_WashedTeal_Red_Mens_Shoe/descpageMSNIKE-NMVPWT.html</td>\n",
       "      <td>Slightly Low</td>\n",
       "      <td>Slight</td>\n",
       "      <td>True</td>\n",
       "      <td>12.9 ounces (size 10.5)</td>\n",
       "      <td>Medium</td>\n",
       "      <td>NaN</td>\n",
       "      <td>NaN</td>\n",
       "      <td>NaN</td>\n",
       "      <td>NaN</td>\n",
       "      <td>NaN</td>\n",
       "    </tr>\n",
       "  </tbody>\n",
       "</table>\n",
       "</div>"
      ],
      "text/plain": [
       "Category                                                                                                        Product Link  \\\n",
       "0             https://www.tennis-warehouse.com/Nike_Air_Zoom_Vapor_Pro_Photo_Blue_Bone_Mens_Shoe/descpageMSNIKE-NMVPPBB.html   \n",
       "1               https://www.tennis-warehouse.com/Nike_Air_Zoom_Vapor_Pro_Bk_Mint_White_Mens_Shoe/descpageMSNIKE-NMVPBMW.html   \n",
       "2           https://www.tennis-warehouse.com/Nike_Air_Zoom_Vapor_Pro_White_Dynamic_Turq_Mens_Shoe/descpageMSNIKE-NMVPWD.html   \n",
       "3            https://www.tennis-warehouse.com/Nike_Air_Zoom_Vapor_Pro_White_Slate_Grey_Mens_Shoe/descpageMSNIKE-NMVPWSG.html   \n",
       "4         https://www.tennis-warehouse.com/Nike_Air_Zoom_Vapor_Pro_White_WashedTeal_Red_Mens_Shoe/descpageMSNIKE-NMVPWT.html   \n",
       "\n",
       "Category          Arch Break-in Length                   Weight   Width  \\\n",
       "0         Slightly Low   Slight   True  12.9 ounces (size 10.5)  Medium   \n",
       "1         Slightly Low   Slight   True  12.9 ounces (size 10.5)  Medium   \n",
       "2         Slightly Low   Slight   True  12.9 ounces (size 10.5)  Medium   \n",
       "3         Slightly Low   Slight   True  12.9 ounces (size 10.5)  Medium   \n",
       "4         Slightly Low   Slight   True  12.9 ounces (size 10.5)  Medium   \n",
       "\n",
       "Category Court Type Durability Guarantee Durability Gurantee Surface  \\\n",
       "0               NaN                  NaN                 NaN     NaN   \n",
       "1               NaN                  NaN                 NaN     NaN   \n",
       "2               NaN                  NaN                 NaN     NaN   \n",
       "3               NaN                  NaN                 NaN     NaN   \n",
       "4               NaN                  NaN                 NaN     NaN   \n",
       "\n",
       "Category Durability  \n",
       "0               NaN  \n",
       "1               NaN  \n",
       "2               NaN  \n",
       "3               NaN  \n",
       "4               NaN  "
      ]
     },
     "execution_count": 19,
     "metadata": {},
     "output_type": "execute_result"
    }
   ],
   "source": [
    "fit_df.head()"
   ]
  },
  {
   "cell_type": "code",
   "execution_count": 20,
   "id": "65d2f41f",
   "metadata": {
    "scrolled": false
   },
   "outputs": [
    {
     "name": "stdout",
     "output_type": "stream",
     "text": [
      "<class 'pandas.core.frame.DataFrame'>\n",
      "RangeIndex: 96 entries, 0 to 95\n",
      "Data columns (total 11 columns):\n",
      " #   Column                Non-Null Count  Dtype \n",
      "---  ------                --------------  ----- \n",
      " 0   Product Link          96 non-null     object\n",
      " 1   Arch                  96 non-null     object\n",
      " 2   Break-in              96 non-null     object\n",
      " 3   Length                96 non-null     object\n",
      " 4   Weight                96 non-null     object\n",
      " 5   Width                 96 non-null     object\n",
      " 6   Court Type            10 non-null     object\n",
      " 7   Durability Guarantee  14 non-null     object\n",
      " 8   Durability Gurantee   3 non-null      object\n",
      " 9   Surface               11 non-null     object\n",
      " 10  Durability            4 non-null      object\n",
      "dtypes: object(11)\n",
      "memory usage: 8.4+ KB\n"
     ]
    }
   ],
   "source": [
    "fit_df.info()"
   ]
  },
  {
   "cell_type": "markdown",
   "id": "3d614640",
   "metadata": {},
   "source": [
    "### Creating the Shoe Description Dataframe\n",
    "Scraping the shoe descriptions will give us text that we can use to decipher whether the shoe offers a 6 month durability guarantee."
   ]
  },
  {
   "cell_type": "code",
   "execution_count": 21,
   "id": "c1efe521",
   "metadata": {
    "scrolled": false
   },
   "outputs": [],
   "source": [
    "data = []\n",
    "for product in product_urls:\n",
    "    response = requests.get(product, headers = headers)\n",
    "    soup = BeautifulSoup(response.text, 'html.parser')\n",
    "    desc_info = soup.find('div', {'class': 'check_read-inner', 'itemprop':'description'})\n",
    "    description = desc_info.text\n",
    "    \n",
    "    desc_dict = {'Product Link': product, 'Description': description}\n",
    "    data.append(desc_dict)"
   ]
  },
  {
   "cell_type": "code",
   "execution_count": 22,
   "id": "740ec72f",
   "metadata": {
    "scrolled": true
   },
   "outputs": [
    {
     "data": {
      "text/html": [
       "<div>\n",
       "<style scoped>\n",
       "    .dataframe tbody tr th:only-of-type {\n",
       "        vertical-align: middle;\n",
       "    }\n",
       "\n",
       "    .dataframe tbody tr th {\n",
       "        vertical-align: top;\n",
       "    }\n",
       "\n",
       "    .dataframe thead th {\n",
       "        text-align: right;\n",
       "    }\n",
       "</style>\n",
       "<table border=\"1\" class=\"dataframe\">\n",
       "  <thead>\n",
       "    <tr style=\"text-align: right;\">\n",
       "      <th></th>\n",
       "      <th>Product Link</th>\n",
       "      <th>Description</th>\n",
       "    </tr>\n",
       "  </thead>\n",
       "  <tbody>\n",
       "    <tr>\n",
       "      <th>93</th>\n",
       "      <td>https://www.tennis-warehouse.com/New_Balance_MC_1006_4E_Black_Silver/descpageMSNB-M106BS4.html</td>\n",
       "      <td>The MC 1006 is a great choice for the avid tennis competitor who craves comfort on court.  The thick REVlite midsole offers loads of plush cushioning and support that you'll feel and appreciate under your feet during long matches.  The lightweight synthetic upper has plenty of mesh to provide exceptional ventilation, keeping your feet cool even on the hottest of days.  The unique tread pattern on the outsole is designed to offer excellent traction and durability on any court surface.  Treat your feet with this comfortable performance offering from New Balance!  Upper: Synthetic materials with lots of mesh provide lightweight support and breathability.  The Long Wear Drag Tip provides extra durability in the toe area.\\rMidsole: REVlite EVA midsole offers loads of cushioning and support under foot.  \\rOutsole: Non-marking NDurance rubber outsole in a modified herringbone tread pattern lends itself to good traction and durability on any court surface.  Backed by a six month durability guarantee.\\rColor: Black / Silver\\r   Fit Details    Length:  True     Width:  Extra Wide (4E)      Arch:  Low     Break-in:  None     Weight:  14.8 ounces (size 10.5)</td>\n",
       "    </tr>\n",
       "    <tr>\n",
       "      <th>94</th>\n",
       "      <td>https://www.tennis-warehouse.com/New_Balance_MC_1006_D_Wh_Navy/descpageMSNB-M106WND.html</td>\n",
       "      <td>The MC 1006 is a great choice for the avid tennis competitor who craves comfort on court.  The thick REVlite midsole offers loads of plush cushioning and support that you'll feel and appreciate under your feet during long matches.  The lightweight synthetic upper has plenty of mesh to provide exceptional ventilation, keeping your feet cool even on the hottest of days.  The unique tread pattern on the outsole is designed to offer excellent traction and durability on any court surface.  Treat your feet with this comfortable performance offering from New Balance!  Upper: Synthetic materials with lots of mesh provide lightweight support and breathability.  The Long Wear Drag Tip provides extra durability in the toe area.\\rMidsole: REVlite EVA midsole offers loads of cushioning and support under foot.  \\rOutsole: Non-marking NDurance rubber outsole in a modified herringbone tread pattern lends itself to good traction and durability on any court surface.  Backed by a six month durability guarantee.\\rColor: White / Navy Blue\\r   Fit Details    Length:  True     Width:  Medium (D)      Arch:  Low     Break-in:  None     Weight:  14.8 ounces (size 10.5)</td>\n",
       "    </tr>\n",
       "    <tr>\n",
       "      <th>95</th>\n",
       "      <td>https://www.tennis-warehouse.com/New_Balance_MC_1006_2E_Wh_Navy/descpageMSNB-M106WN2.html</td>\n",
       "      <td>The MC 1006 is a great choice for the avid tennis competitor who craves comfort on court.  The thick REVlite midsole offers loads of plush cushioning and support that you'll feel and appreciate under your feet during long matches.  The lightweight synthetic upper has plenty of mesh to provide exceptional ventilation, keeping your feet cool even on the hottest of days.  The unique tread pattern on the outsole is designed to offer excellent traction and durability on any court surface.  Treat your feet with this comfortable performance offering from New Balance!  Upper: Synthetic materials with lots of mesh provide lightweight support and breathability.  The Long Wear Drag Tip provides extra durability in the toe area.\\rMidsole: REVlite EVA midsole offers loads of cushioning and support under foot.  \\rOutsole: Non-marking NDurance rubber outsole in a modified herringbone tread pattern lends itself to good traction and durability on any court surface.  Backed by a six month durability guarantee.\\rColor: White / Navy Blue\\r   Fit Details    Length:  True     Width:  Wide (2E)      Arch:  Low     Break-in:  None     Weight:  14.8 ounces (size 10.5)</td>\n",
       "    </tr>\n",
       "    <tr>\n",
       "      <th>96</th>\n",
       "      <td>https://www.tennis-warehouse.com/New_Balance_MC_1006_4E_Wh_Navy/descpageMSNB-M106WN4.html</td>\n",
       "      <td>The MC 1006 is a great choice for the avid tennis competitor who craves comfort on court.  The thick REVlite midsole offers loads of plush cushioning and support that you'll feel and appreciate under your feet during long matches.  The lightweight synthetic upper has plenty of mesh to provide exceptional ventilation, keeping your feet cool even on the hottest of days.  The unique tread pattern on the outsole is designed to offer excellent traction and durability on any court surface.  Treat your feet with this comfortable performance offering from New Balance!  Upper: Synthetic materials with lots of mesh provide lightweight support and breathability.  The Long Wear Drag Tip provides extra durability in the toe area.\\rMidsole: REVlite EVA midsole offers loads of cushioning and support under foot.  \\rOutsole: Non-marking NDurance rubber outsole in a modified herringbone tread pattern lends itself to good traction and durability on any court surface.  Backed by a six month durability guarantee.\\rColor: White / Navy Blue\\r   Fit Details    Length:  True     Width:  Extra Wide (4E)      Arch:  Low     Break-in:  None     Weight:  14.8 ounces (size 10.5)</td>\n",
       "    </tr>\n",
       "    <tr>\n",
       "      <th>97</th>\n",
       "      <td>https://www.tennis-warehouse.com/New_Balance_MC_806_W_D/descpageMSNB-MC806WD.html</td>\n",
       "      <td>New Balance continues their heritage 800 series with the 806, carrying on the tradition of superior stability and support.  The shoe includes New Balance's ROLLBAR technology which helps to minimize the movement of the back of your foot, making sure you're in total control of your aggressive strides and cuts on court.  The full leather upper gives off a classic style and look, and is reinforced by extra protection in the front for the frequent toe dragger.  This is yet another solid offering in the successful 800 line.  Upper: Full grain leather upper with a reinforced toe for added durability.\\rMidsole: ABZORB midsole offers tons of cushioning and support, and the ROLLBAR helps to control rear-foot movement.\\rOutsole: NDurance rubber compound offers exceptional wear and traction on all surfaces</td>\n",
       "    </tr>\n",
       "  </tbody>\n",
       "</table>\n",
       "</div>"
      ],
      "text/plain": [
       "                                                                                      Product Link  \\\n",
       "93  https://www.tennis-warehouse.com/New_Balance_MC_1006_4E_Black_Silver/descpageMSNB-M106BS4.html   \n",
       "94        https://www.tennis-warehouse.com/New_Balance_MC_1006_D_Wh_Navy/descpageMSNB-M106WND.html   \n",
       "95       https://www.tennis-warehouse.com/New_Balance_MC_1006_2E_Wh_Navy/descpageMSNB-M106WN2.html   \n",
       "96       https://www.tennis-warehouse.com/New_Balance_MC_1006_4E_Wh_Navy/descpageMSNB-M106WN4.html   \n",
       "97               https://www.tennis-warehouse.com/New_Balance_MC_806_W_D/descpageMSNB-MC806WD.html   \n",
       "\n",
       "                                                                                                                                                                                                                                                                                                                                                                                                                                                                                                                                                                                                                                                                                                                                                                                                                                                                                                                                                                                                                                                                                                                                                                                                            Description  \n",
       "93       The MC 1006 is a great choice for the avid tennis competitor who craves comfort on court.  The thick REVlite midsole offers loads of plush cushioning and support that you'll feel and appreciate under your feet during long matches.  The lightweight synthetic upper has plenty of mesh to provide exceptional ventilation, keeping your feet cool even on the hottest of days.  The unique tread pattern on the outsole is designed to offer excellent traction and durability on any court surface.  Treat your feet with this comfortable performance offering from New Balance!  Upper: Synthetic materials with lots of mesh provide lightweight support and breathability.  The Long Wear Drag Tip provides extra durability in the toe area.\\rMidsole: REVlite EVA midsole offers loads of cushioning and support under foot.  \\rOutsole: Non-marking NDurance rubber outsole in a modified herringbone tread pattern lends itself to good traction and durability on any court surface.  Backed by a six month durability guarantee.\\rColor: Black / Silver\\r   Fit Details    Length:  True     Width:  Extra Wide (4E)      Arch:  Low     Break-in:  None     Weight:  14.8 ounces (size 10.5)    \n",
       "94         The MC 1006 is a great choice for the avid tennis competitor who craves comfort on court.  The thick REVlite midsole offers loads of plush cushioning and support that you'll feel and appreciate under your feet during long matches.  The lightweight synthetic upper has plenty of mesh to provide exceptional ventilation, keeping your feet cool even on the hottest of days.  The unique tread pattern on the outsole is designed to offer excellent traction and durability on any court surface.  Treat your feet with this comfortable performance offering from New Balance!  Upper: Synthetic materials with lots of mesh provide lightweight support and breathability.  The Long Wear Drag Tip provides extra durability in the toe area.\\rMidsole: REVlite EVA midsole offers loads of cushioning and support under foot.  \\rOutsole: Non-marking NDurance rubber outsole in a modified herringbone tread pattern lends itself to good traction and durability on any court surface.  Backed by a six month durability guarantee.\\rColor: White / Navy Blue\\r   Fit Details    Length:  True     Width:  Medium (D)      Arch:  Low     Break-in:  None     Weight:  14.8 ounces (size 10.5)    \n",
       "95          The MC 1006 is a great choice for the avid tennis competitor who craves comfort on court.  The thick REVlite midsole offers loads of plush cushioning and support that you'll feel and appreciate under your feet during long matches.  The lightweight synthetic upper has plenty of mesh to provide exceptional ventilation, keeping your feet cool even on the hottest of days.  The unique tread pattern on the outsole is designed to offer excellent traction and durability on any court surface.  Treat your feet with this comfortable performance offering from New Balance!  Upper: Synthetic materials with lots of mesh provide lightweight support and breathability.  The Long Wear Drag Tip provides extra durability in the toe area.\\rMidsole: REVlite EVA midsole offers loads of cushioning and support under foot.  \\rOutsole: Non-marking NDurance rubber outsole in a modified herringbone tread pattern lends itself to good traction and durability on any court surface.  Backed by a six month durability guarantee.\\rColor: White / Navy Blue\\r   Fit Details    Length:  True     Width:  Wide (2E)      Arch:  Low     Break-in:  None     Weight:  14.8 ounces (size 10.5)    \n",
       "96    The MC 1006 is a great choice for the avid tennis competitor who craves comfort on court.  The thick REVlite midsole offers loads of plush cushioning and support that you'll feel and appreciate under your feet during long matches.  The lightweight synthetic upper has plenty of mesh to provide exceptional ventilation, keeping your feet cool even on the hottest of days.  The unique tread pattern on the outsole is designed to offer excellent traction and durability on any court surface.  Treat your feet with this comfortable performance offering from New Balance!  Upper: Synthetic materials with lots of mesh provide lightweight support and breathability.  The Long Wear Drag Tip provides extra durability in the toe area.\\rMidsole: REVlite EVA midsole offers loads of cushioning and support under foot.  \\rOutsole: Non-marking NDurance rubber outsole in a modified herringbone tread pattern lends itself to good traction and durability on any court surface.  Backed by a six month durability guarantee.\\rColor: White / Navy Blue\\r   Fit Details    Length:  True     Width:  Extra Wide (4E)      Arch:  Low     Break-in:  None     Weight:  14.8 ounces (size 10.5)    \n",
       "97                                                                                                                                                                                                                                                                                                                                                                               New Balance continues their heritage 800 series with the 806, carrying on the tradition of superior stability and support.  The shoe includes New Balance's ROLLBAR technology which helps to minimize the movement of the back of your foot, making sure you're in total control of your aggressive strides and cuts on court.  The full leather upper gives off a classic style and look, and is reinforced by extra protection in the front for the frequent toe dragger.  This is yet another solid offering in the successful 800 line.  Upper: Full grain leather upper with a reinforced toe for added durability.\\rMidsole: ABZORB midsole offers tons of cushioning and support, and the ROLLBAR helps to control rear-foot movement.\\rOutsole: NDurance rubber compound offers exceptional wear and traction on all surfaces  "
      ]
     },
     "execution_count": 22,
     "metadata": {},
     "output_type": "execute_result"
    }
   ],
   "source": [
    "description_df = pd.DataFrame(data)\n",
    "description_df.tail()"
   ]
  },
  {
   "cell_type": "code",
   "execution_count": 23,
   "id": "83fcefa0",
   "metadata": {},
   "outputs": [],
   "source": [
    "description_df['Warranty'] = description_df['Description'].str.contains('durability guarantee')"
   ]
  },
  {
   "cell_type": "markdown",
   "id": "e63b683a",
   "metadata": {},
   "source": [
    "### Combining Dataframes"
   ]
  },
  {
   "cell_type": "code",
   "execution_count": 24,
   "id": "8196bf4f",
   "metadata": {},
   "outputs": [],
   "source": [
    "shoe_df = pd.merge(shoe_df, shoe_price, on = 'Product Link', how = 'left')"
   ]
  },
  {
   "cell_type": "code",
   "execution_count": 25,
   "id": "39524204",
   "metadata": {},
   "outputs": [],
   "source": [
    "shoe_df = pd.merge(shoe_df, fit_df, on = 'Product Link', how = 'left')"
   ]
  },
  {
   "cell_type": "code",
   "execution_count": 26,
   "id": "9fe1de15",
   "metadata": {
    "scrolled": true
   },
   "outputs": [],
   "source": [
    "shoe_df = pd.merge(shoe_df, description_df, on = 'Product Link', how = 'left')"
   ]
  },
  {
   "cell_type": "code",
   "execution_count": 27,
   "id": "68ab4e2c",
   "metadata": {},
   "outputs": [],
   "source": [
    "shoe_df.drop(['Durability Guarantee', 'Durability Gurantee'],axis=1,inplace=True)"
   ]
  },
  {
   "cell_type": "markdown",
   "id": "54a9fbf2",
   "metadata": {},
   "source": [
    "## Data Cleaning"
   ]
  },
  {
   "cell_type": "markdown",
   "id": "631e0ffa",
   "metadata": {},
   "source": [
    "### Shoe Break In"
   ]
  },
  {
   "cell_type": "code",
   "execution_count": 28,
   "id": "90733a1d",
   "metadata": {},
   "outputs": [
    {
     "data": {
      "text/plain": [
       "None                      46\n",
       "Slight                    15\n",
       "No                        13\n",
       "Some break-in required     7\n",
       "Yes                        5\n",
       "None required              5\n",
       "None Required              3\n",
       "NaN                        2\n",
       "xx                         1\n",
       "No break-in                1\n",
       "Name: Break-in, dtype: int64"
      ]
     },
     "execution_count": 28,
     "metadata": {},
     "output_type": "execute_result"
    }
   ],
   "source": [
    "shoe_df['Break-in'].value_counts(dropna=False)"
   ]
  },
  {
   "cell_type": "code",
   "execution_count": 29,
   "id": "bf41273c",
   "metadata": {},
   "outputs": [],
   "source": [
    "shoe_df['Break-in'] = np.where(shoe_df['Break-in'].str.contains('Slight|Some|Yes'), 'Yes', 'No')"
   ]
  },
  {
   "cell_type": "markdown",
   "id": "ef30ff9d",
   "metadata": {},
   "source": [
    "### Arch"
   ]
  },
  {
   "cell_type": "code",
   "execution_count": 30,
   "id": "0c0b6a7d",
   "metadata": {},
   "outputs": [
    {
     "data": {
      "text/plain": [
       "Medium          38\n",
       "Slightly Low    24\n",
       "Low             14\n",
       "Slightly low    13\n",
       "Normal           4\n",
       "Medium-High      2\n",
       "xx               1\n",
       "Name: Arch, dtype: int64"
      ]
     },
     "execution_count": 30,
     "metadata": {},
     "output_type": "execute_result"
    }
   ],
   "source": [
    "shoe_df['Arch'].value_counts()"
   ]
  },
  {
   "cell_type": "code",
   "execution_count": 31,
   "id": "92499175",
   "metadata": {},
   "outputs": [],
   "source": [
    "shoe_df['Arch'] = shoe_df['Arch'].str.replace('xx|Medium-High','Medium').str.replace('Slightly [Ll]ow','Low')"
   ]
  },
  {
   "cell_type": "markdown",
   "id": "08503322",
   "metadata": {},
   "source": [
    "### Length"
   ]
  },
  {
   "cell_type": "code",
   "execution_count": 32,
   "id": "aed338f3",
   "metadata": {},
   "outputs": [
    {
     "data": {
      "text/plain": [
       "True                                                                           67\n",
       "Long, we recommend going a half size down.                                      7\n",
       "Slightly Snug                                                                   4\n",
       "Slightly Short (if you are in between sizes go with the larger of the two)      4\n",
       "True to size                                                                    3\n",
       "True (if between sizes, we recommend going to the smaller size)                 3\n",
       "Toe-box is shallow, for a comfortable fitwe recommend going a half size up.     2\n",
       "Snug                                                                            2\n",
       "Generous                                                                        1\n",
       "xx                                                                              1\n",
       "True�                                                                           1\n",
       "Short (We recommend going a half size up)                                       1\n",
       "Name: Length, dtype: int64"
      ]
     },
     "execution_count": 32,
     "metadata": {},
     "output_type": "execute_result"
    }
   ],
   "source": [
    "shoe_df['Length'].value_counts()"
   ]
  },
  {
   "cell_type": "code",
   "execution_count": 33,
   "id": "d85c5d8e",
   "metadata": {},
   "outputs": [],
   "source": [
    "shoe_df['Length'] = np.where(shoe_df['Length'].str.contains('xx|True'), 'True', shoe_df['Length'])\n",
    "shoe_df['Length'] = np.where(shoe_df['Length'].str.contains('shallow'), 'Snug', shoe_df['Length'])\n",
    "shoe_df['Length'] = np.where(shoe_df['Length'].str.contains('Long|Generous'), 'Long', shoe_df['Length'])"
   ]
  },
  {
   "cell_type": "markdown",
   "id": "3af5290e",
   "metadata": {},
   "source": [
    "### Width"
   ]
  },
  {
   "cell_type": "code",
   "execution_count": 34,
   "id": "8159a2c9",
   "metadata": {
    "scrolled": true
   },
   "outputs": [
    {
     "data": {
      "text/plain": [
       "Medium                                                   52\n",
       "Snug Medium                                              11\n",
       "Medium (snug in the middle/arch region)                   6\n",
       "Narrow                                                    5\n",
       "Wide (2E)                                                 4\n",
       "Medium (we find it slightly narrower than the Uber 3)     3\n",
       "Slightly Wide (mostly in the toe-box)                     3\n",
       "Medium (D)                                                3\n",
       "NaN                                                       2\n",
       "Slightly Wide in the Forefoot                             2\n",
       "2E Wide                                                   2\n",
       "Extra Wide (4E)                                           2\n",
       "xx                                                        1\n",
       "Snug through heel and midfoot                             1\n",
       "Medium / Slightly Narrow in forefoot                      1\n",
       "Name: Width, dtype: int64"
      ]
     },
     "execution_count": 34,
     "metadata": {},
     "output_type": "execute_result"
    }
   ],
   "source": [
    "shoe_df['Width'].value_counts(dropna=False)"
   ]
  },
  {
   "cell_type": "markdown",
   "id": "a0cc120e",
   "metadata": {},
   "source": [
    "### Weight"
   ]
  },
  {
   "cell_type": "code",
   "execution_count": 35,
   "id": "c6ce2cf7",
   "metadata": {},
   "outputs": [
    {
     "data": {
      "text/plain": [
       "12.9 ounces (size 10.5)       13\n",
       "12.4 ounces (size 10.5)        8\n",
       "15.8 ounces (size 10.5)        7\n",
       "15.1 ounces (size 10.5)        7\n",
       "14.2 ounces (size 10.5)        7\n",
       "14.8 ounces (size 10.5)        6\n",
       "14.5 ounces (size 10.5)        6\n",
       "13.2 ounces (size 10.5)        4\n",
       "14.3 ounces (size 10.5)        4\n",
       "12.9 ounces (US size 10.5)     4\n",
       "13.4 ounces (size 10.5)        4\n",
       "12.1 ounces (size 10.5)        4\n",
       "14.7 ounces (size 10.5)        3\n",
       "13.9 ounces (size 10.5)        3\n",
       "13.5 ounces (size 10.5)        3\n",
       "16.2 ounces (size 10.5)        2\n",
       "15.7 ounces (size 10.5)        2\n",
       "12.6 ounces (size 10.5)        2\n",
       "15.4 ounces (size 10.5)        1\n",
       "14.7 ounces (US size 10.5)     1\n",
       "11.7 ounces (size 10.5)        1\n",
       "13.8 ounces (size 10.5)        1\n",
       "TBD ounces (size 10.5)         1\n",
       "15.6 ounces (size 10.5)        1\n",
       "15.5 ounces (size 10.5)        1\n",
       "Name: Weight, dtype: int64"
      ]
     },
     "execution_count": 35,
     "metadata": {},
     "output_type": "execute_result"
    }
   ],
   "source": [
    "shoe_df['Weight'].value_counts()"
   ]
  },
  {
   "cell_type": "code",
   "execution_count": 36,
   "id": "e4863402",
   "metadata": {},
   "outputs": [],
   "source": [
    "shoe_df['Weight'] = shoe_df['Weight'].str.split(' ').str[0]"
   ]
  },
  {
   "cell_type": "markdown",
   "id": "3291e01a",
   "metadata": {},
   "source": [
    "### Reviews"
   ]
  },
  {
   "cell_type": "code",
   "execution_count": 37,
   "id": "61ca7054",
   "metadata": {},
   "outputs": [
    {
     "data": {
      "text/plain": [
       "6 Reviews          15\n",
       "2 Reviews          15\n",
       "7 Reviews          12\n",
       "4 Reviews          12\n",
       "18 Reviews          8\n",
       "10 Reviews          8\n",
       "8 Reviews           6\n",
       "29 Reviews          4\n",
       "17 Reviews          4\n",
       "13 Reviews          4\n",
       "1 Review            3\n",
       "12 Reviews          3\n",
       "5 Reviews           2\n",
       "Submit a Review     2\n",
       "Name: Reviews, dtype: int64"
      ]
     },
     "execution_count": 37,
     "metadata": {},
     "output_type": "execute_result"
    }
   ],
   "source": [
    "shoe_df['Reviews'].value_counts()"
   ]
  },
  {
   "cell_type": "code",
   "execution_count": 38,
   "id": "b5b9685a",
   "metadata": {},
   "outputs": [],
   "source": [
    "shoe_df['Reviews'] = shoe_df['Reviews'].str.replace('Submit a Review', '0')\n",
    "shoe_df['Reviews'] = shoe_df['Reviews'].str.split(' ').str[0]"
   ]
  },
  {
   "cell_type": "code",
   "execution_count": 39,
   "id": "65cea571",
   "metadata": {},
   "outputs": [],
   "source": [
    "shoe_df['Reviews'] = shoe_df['Reviews'].apply(pd.to_numeric)"
   ]
  },
  {
   "cell_type": "markdown",
   "id": "bf365108",
   "metadata": {},
   "source": [
    "### Rating"
   ]
  },
  {
   "cell_type": "code",
   "execution_count": 40,
   "id": "0c622f0e",
   "metadata": {},
   "outputs": [
    {
     "data": {
      "text/plain": [
       "3.8    16\n",
       "3.0    11\n",
       "5.0    10\n",
       "3.3     8\n",
       "3.5     8\n",
       "4.8     7\n",
       "1.2     6\n",
       "4.0     6\n",
       "2.8     5\n",
       "4.6     4\n",
       "1.5     3\n",
       "4.3     3\n",
       "3.1     3\n",
       "4.1     2\n",
       "4.4     2\n",
       "3.4     2\n",
       "3.6     1\n",
       "Name: Rating, dtype: int64"
      ]
     },
     "execution_count": 40,
     "metadata": {},
     "output_type": "execute_result"
    }
   ],
   "source": [
    "shoe_df['Rating'].value_counts()"
   ]
  },
  {
   "cell_type": "code",
   "execution_count": 41,
   "id": "27fe03cb",
   "metadata": {},
   "outputs": [],
   "source": [
    "shoe_df['Rating'] = shoe_df['Rating'].str.strip()\n",
    "shoe_df['Rating'] = shoe_df['Rating'].apply(pd.to_numeric)"
   ]
  },
  {
   "cell_type": "markdown",
   "id": "01af4013",
   "metadata": {},
   "source": [
    "## Creating the Shoe Review Dataframe\n",
    "For each unique shoe (some shoes are duplicate shoes with different urls for different colors), I will scrape the customer reviews for the shoe, along with the review titles and the stars given."
   ]
  },
  {
   "cell_type": "code",
   "execution_count": 42,
   "id": "0cc16c38",
   "metadata": {},
   "outputs": [],
   "source": [
    "cols = shoe_df.columns\n",
    "shoe_df[cols] = shoe_df.apply(pd.to_numeric, errors='ignore')"
   ]
  },
  {
   "cell_type": "code",
   "execution_count": 43,
   "id": "89001714",
   "metadata": {},
   "outputs": [],
   "source": [
    "unique_shoe = shoe_df.copy()"
   ]
  },
  {
   "cell_type": "code",
   "execution_count": 44,
   "id": "bfd2b513",
   "metadata": {},
   "outputs": [],
   "source": [
    "unique_shoe = unique_shoe[['Shoe Group','Product Link', 'Shoe']]\n",
    "unique_shoe = unique_shoe.sort_values(by='Shoe')"
   ]
  },
  {
   "cell_type": "markdown",
   "id": "b01b1a40",
   "metadata": {},
   "source": [
    "Each shoe has multiple urls for each color option, with each url having the same reviews. Removing all the duplicate shoes so we have less reviews to scrape."
   ]
  },
  {
   "cell_type": "code",
   "execution_count": 45,
   "id": "f77aea7f",
   "metadata": {},
   "outputs": [],
   "source": [
    "unique_shoe.drop_duplicates(subset=['Shoe Group'], keep='first', inplace=True)"
   ]
  },
  {
   "cell_type": "code",
   "execution_count": 46,
   "id": "0a78d0c4",
   "metadata": {},
   "outputs": [],
   "source": [
    "unique_urls = unique_shoe['Product Link'].to_list()"
   ]
  },
  {
   "cell_type": "code",
   "execution_count": 47,
   "id": "9ffc9ffd",
   "metadata": {},
   "outputs": [],
   "source": [
    "data = []\n",
    "for url in unique_urls:\n",
    "    response = requests.get(url, headers = headers)\n",
    "    soup = BeautifulSoup(response.text, 'html.parser')\n",
    "    review_info = soup.find_all('div',{'itemprop':'review','class':'single-review-container'})\n",
    "    for item in review_info:\n",
    "        name_info = item.find('span',{'itemprop':'name','class':'review-title'})\n",
    "        name = name_info.text\n",
    "        \n",
    "        stars_info = item.find('span',{'itemprop':'ratingValue', 'class':'single-rating-value'})\n",
    "        stars = stars_info.text\n",
    "        \n",
    "        body_info = item.find('span',{'itemprop':'reviewBody','class':'review-body'})\n",
    "        body = body_info.text\n",
    "        \n",
    "        title_dict = {'Link': url, 'Title': name, 'Stars': stars, 'Review': body}\n",
    "        data.append(title_dict)"
   ]
  },
  {
   "cell_type": "code",
   "execution_count": 48,
   "id": "337879fb",
   "metadata": {
    "scrolled": true
   },
   "outputs": [
    {
     "data": {
      "text/html": [
       "<div>\n",
       "<style scoped>\n",
       "    .dataframe tbody tr th:only-of-type {\n",
       "        vertical-align: middle;\n",
       "    }\n",
       "\n",
       "    .dataframe tbody tr th {\n",
       "        vertical-align: top;\n",
       "    }\n",
       "\n",
       "    .dataframe thead th {\n",
       "        text-align: right;\n",
       "    }\n",
       "</style>\n",
       "<table border=\"1\" class=\"dataframe\">\n",
       "  <thead>\n",
       "    <tr style=\"text-align: right;\">\n",
       "      <th></th>\n",
       "      <th>Link</th>\n",
       "      <th>Title</th>\n",
       "      <th>Stars</th>\n",
       "      <th>Review</th>\n",
       "    </tr>\n",
       "  </thead>\n",
       "  <tbody>\n",
       "    <tr>\n",
       "      <th>0</th>\n",
       "      <td>https://www.tennis-warehouse.com/Asics_Court_FF_2_Black_Green_Gecko_Mens_Shoes/descpageMSASICS-AMCFFBG.html</td>\n",
       "      <td>My favorite tennis shoes</td>\n",
       "      <td>5</td>\n",
       "      <td>I've been trying a few shoes lately (FF Court, new Barricade, and Nike Zoom Cage) and the FFs have been my favorite so far. I pair my shoes with an Aryse ankle brace, and the FF's have been the best at handling my brace in the arch area (although a bit tough to get in at first).\\n\\nI would say break-in time was minimal - maybe a set or less. \\n\\nThe only negative as everyone has mentioned are the laces. But that's easy to fix.</td>\n",
       "    </tr>\n",
       "    <tr>\n",
       "      <th>1</th>\n",
       "      <td>https://www.tennis-warehouse.com/Asics_Gel_Challenger_13_White_Black_Mens_Shoes/descpageMSASICS-AMCH3WB.html</td>\n",
       "      <td>Amazing shoe</td>\n",
       "      <td>5</td>\n",
       "      <td>Very comfortable, amazing shoes!</td>\n",
       "    </tr>\n",
       "    <tr>\n",
       "      <th>2</th>\n",
       "      <td>https://www.tennis-warehouse.com/Asics_Gel_Resolution_8_2E_Blue_Harmony_Wh_Mens_Shoes/descpageMSASICS-AMG8EHW.html</td>\n",
       "      <td>ASICS 2E resolution</td>\n",
       "      <td>1</td>\n",
       "      <td>Not very wide. Still feels narrow by the ankle and heel. Didn't even dare play with them on.</td>\n",
       "    </tr>\n",
       "    <tr>\n",
       "      <th>3</th>\n",
       "      <td>https://www.tennis-warehouse.com/Asics_Gel_Resolution_8_2E_Blue_Harmony_Wh_Mens_Shoes/descpageMSASICS-AMG8EHW.html</td>\n",
       "      <td>Asics Shoes</td>\n",
       "      <td>5</td>\n",
       "      <td>This is the second time that I have bought Asics. These are very comfortable, more-so than the Speed FF. The cushioning feels very good. I hope they last a long time.</td>\n",
       "    </tr>\n",
       "    <tr>\n",
       "      <th>4</th>\n",
       "      <td>https://www.tennis-warehouse.com/Asics_Gel_Resolution_8_2E_Blue_Harmony_Wh_Mens_Shoes/descpageMSASICS-AMG8EHW.html</td>\n",
       "      <td>Amazing Shoe</td>\n",
       "      <td>5</td>\n",
       "      <td>Great fit, comfortable and stable!</td>\n",
       "    </tr>\n",
       "  </tbody>\n",
       "</table>\n",
       "</div>"
      ],
      "text/plain": [
       "                                                                                                                 Link  \\\n",
       "0         https://www.tennis-warehouse.com/Asics_Court_FF_2_Black_Green_Gecko_Mens_Shoes/descpageMSASICS-AMCFFBG.html   \n",
       "1        https://www.tennis-warehouse.com/Asics_Gel_Challenger_13_White_Black_Mens_Shoes/descpageMSASICS-AMCH3WB.html   \n",
       "2  https://www.tennis-warehouse.com/Asics_Gel_Resolution_8_2E_Blue_Harmony_Wh_Mens_Shoes/descpageMSASICS-AMG8EHW.html   \n",
       "3  https://www.tennis-warehouse.com/Asics_Gel_Resolution_8_2E_Blue_Harmony_Wh_Mens_Shoes/descpageMSASICS-AMG8EHW.html   \n",
       "4  https://www.tennis-warehouse.com/Asics_Gel_Resolution_8_2E_Blue_Harmony_Wh_Mens_Shoes/descpageMSASICS-AMG8EHW.html   \n",
       "\n",
       "                      Title Stars  \\\n",
       "0  My favorite tennis shoes     5   \n",
       "1              Amazing shoe     5   \n",
       "2       ASICS 2E resolution     1   \n",
       "3               Asics Shoes     5   \n",
       "4              Amazing Shoe     5   \n",
       "\n",
       "                                                                                                                                                                                                                                                                                                                                                                                                                                           Review  \n",
       "0  I've been trying a few shoes lately (FF Court, new Barricade, and Nike Zoom Cage) and the FFs have been my favorite so far. I pair my shoes with an Aryse ankle brace, and the FF's have been the best at handling my brace in the arch area (although a bit tough to get in at first).\\n\\nI would say break-in time was minimal - maybe a set or less. \\n\\nThe only negative as everyone has mentioned are the laces. But that's easy to fix.  \n",
       "1                                                                                                                                                                                                                                                                                                                                                                                                                Very comfortable, amazing shoes!  \n",
       "2                                                                                                                                                                                                                                                                                                                                                    Not very wide. Still feels narrow by the ankle and heel. Didn't even dare play with them on.  \n",
       "3                                                                                                                                                                                                                                                                          This is the second time that I have bought Asics. These are very comfortable, more-so than the Speed FF. The cushioning feels very good. I hope they last a long time.  \n",
       "4                                                                                                                                                                                                                                                                                                                                                                                                              Great fit, comfortable and stable!  "
      ]
     },
     "execution_count": 48,
     "metadata": {},
     "output_type": "execute_result"
    }
   ],
   "source": [
    "review_df = pd.DataFrame(data)\n",
    "review_df.head(5)"
   ]
  },
  {
   "cell_type": "markdown",
   "id": "fbbb117c",
   "metadata": {},
   "source": [
    "### Visualizing the Distribution of Reviews by Stars"
   ]
  },
  {
   "cell_type": "code",
   "execution_count": 49,
   "id": "3629f7d9",
   "metadata": {
    "scrolled": true
   },
   "outputs": [
    {
     "data": {
      "image/png": "[encoded data removed]",
      "text/plain": [
       "<Figure size 720x360 with 1 Axes>"
      ]
     },
     "metadata": {},
     "output_type": "display_data"
    }
   ],
   "source": [
    "ax = review_df['Stars'].value_counts().sort_index().plot(kind='bar', figsize=(10,5))\n",
    "ax.set_xlabel('Stars')\n",
    "ax.set_xticklabels(labels = [1,2,3,4,5], rotation = 0, ha='right')\n",
    "ax.set_title('# of Reviews by Stars', fontsize=14)\n",
    "plt.show()"
   ]
  },
  {
   "cell_type": "markdown",
   "id": "9d848b8c",
   "metadata": {},
   "source": [
    "### Which brands have the highest average rating?"
   ]
  },
  {
   "cell_type": "code",
   "execution_count": 50,
   "id": "83167686",
   "metadata": {},
   "outputs": [],
   "source": [
    "review_df['Stars'] = review_df['Stars'].astype(int)"
   ]
  },
  {
   "cell_type": "code",
   "execution_count": 51,
   "id": "c7b8a259",
   "metadata": {},
   "outputs": [],
   "source": [
    "review_df = pd.merge(review_df, shoe_df[['Brand','Product Link']], how='left', left_on='Link', right_on='Product Link')"
   ]
  },
  {
   "cell_type": "code",
   "execution_count": 52,
   "id": "f36a1620",
   "metadata": {
    "scrolled": true
   },
   "outputs": [],
   "source": [
    "brand_stars = pd.DataFrame(review_df.groupby('Brand')['Stars'].mean().round(2).reset_index().sort_values(by='Stars'))"
   ]
  },
  {
   "cell_type": "code",
   "execution_count": 53,
   "id": "e4d0ffb0",
   "metadata": {},
   "outputs": [
    {
     "data": {
      "image/png": "[encoded data removed]",
      "text/plain": [
       "<Figure size 576x576 with 1 Axes>"
      ]
     },
     "metadata": {},
     "output_type": "display_data"
    }
   ],
   "source": [
    "fig = plt.figure(figsize=(8,8))\n",
    "plt.barh(brand_stars['Brand'], brand_stars['Stars'], height = .5)\n",
    "for i, v in enumerate(brand_stars['Stars']):\n",
    "    plt.text(v, i, str(v), color = 'black')\n",
    "    plt.xlim([0,5])\n",
    "plt.title('Avg Rating by Brand', fontsize=14)\n",
    "plt.show()"
   ]
  },
  {
   "cell_type": "markdown",
   "id": "2bc40cde",
   "metadata": {},
   "source": [
    "### Comparing the Average Rating vs the Number of Reviews"
   ]
  },
  {
   "cell_type": "code",
   "execution_count": 54,
   "id": "d7c9a4f1",
   "metadata": {},
   "outputs": [],
   "source": [
    "review_stars = pd.DataFrame(review_df.groupby('Brand')['Stars','Review'].agg({'Stars':'mean','Review':'count'}).reset_index())\n",
    "review_stars['Stars'] = review_stars['Stars'].round(2)"
   ]
  },
  {
   "cell_type": "code",
   "execution_count": 55,
   "id": "d2782b14",
   "metadata": {
    "scrolled": false
   },
   "outputs": [
    {
     "data": {
      "image/png": "[encoded data removed]",
      "text/plain": [
       "<Figure size 576x576 with 1 Axes>"
      ]
     },
     "metadata": {},
     "output_type": "display_data"
    }
   ],
   "source": [
    "fig = plt.figure(figsize=(8,8))\n",
    "plt.scatter(data=review_stars, x = 'Review', y = 'Stars')\n",
    "\n",
    "for i in range(review_stars.shape[0]):\n",
    "    plt.text(x=review_stars.Review[i],y=review_stars.Stars[i]+0.12,s=str(review_stars.Brand[i]) + \"\\n\" +\n",
    "            str(review_stars.Stars[i]), \n",
    "          fontdict=dict(color='black',size=12),\n",
    "          bbox=dict(facecolor='cyan',alpha=0.5))\n",
    "plt.xlabel('# of Reviews')\n",
    "plt.ylabel('Average Rating')\n",
    "plt.title('Average Brand Rating vs. # of Reviews', fontsize=14)\n",
    "plt.xlim([0,80])\n",
    "plt.ylim([0,5])\n",
    "plt.show()"
   ]
  },
  {
   "cell_type": "code",
   "execution_count": 56,
   "id": "1b5affff",
   "metadata": {},
   "outputs": [],
   "source": [
    "review_df = review_df.reset_index()"
   ]
  },
  {
   "cell_type": "markdown",
   "id": "5ad4e71f",
   "metadata": {},
   "source": [
    "## Natural Language Processing"
   ]
  },
  {
   "cell_type": "markdown",
   "id": "dc7b7411",
   "metadata": {},
   "source": [
    "### RoBERTa Transformer Model\n",
    "See the link below for more info on this pretrained model.\n",
    "\n",
    "https://huggingface.co/docs/transformers/model_doc/roberta"
   ]
  },
  {
   "cell_type": "code",
   "execution_count": 57,
   "id": "759c668a",
   "metadata": {},
   "outputs": [],
   "source": [
    "# Loading the pre-trained model\n",
    "model = f\"cardiffnlp/twitter-roberta-base-sentiment\"\n",
    "tokenizer = AutoTokenizer.from_pretrained(model)\n",
    "model = AutoModelForSequenceClassification.from_pretrained(model)"
   ]
  },
  {
   "cell_type": "code",
   "execution_count": 58,
   "id": "c30d903a",
   "metadata": {},
   "outputs": [],
   "source": [
    "def polarity_scores_roberta(example):    \n",
    "    encoded_text = tokenizer(example, return_tensors='pt')\n",
    "    output = model(**encoded_text)\n",
    "    scores = output[0][0].detach().numpy()\n",
    "    scores = softmax(scores)\n",
    "    scores_dict = {\n",
    "        'neg': scores[0],\n",
    "        'neu': scores[1],\n",
    "        'pos': scores[2]\n",
    "    }\n",
    "    return(scores_dict)"
   ]
  },
  {
   "cell_type": "code",
   "execution_count": 59,
   "id": "f5759a81",
   "metadata": {},
   "outputs": [
    {
     "data": {
      "application/vnd.jupyter.widget-view+json": {
       "model_id": "bbcbbad566c3449382ef7dccc12b1e9b",
       "version_major": 2,
       "version_minor": 0
      },
      "text/plain": [
       "  0%|          | 0/194 [00:00<?, ?it/s]"
      ]
     },
     "metadata": {},
     "output_type": "display_data"
    }
   ],
   "source": [
    "res = {}\n",
    "for i, row in tqdm(review_df.iterrows(), total = len(review_df)):\n",
    "    text = row['Review']\n",
    "    rowid = row['index']\n",
    "    \n",
    "    roberta_result = polarity_scores_roberta(text)\n",
    "    res[rowid] = roberta_result"
   ]
  },
  {
   "cell_type": "code",
   "execution_count": 60,
   "id": "64188723",
   "metadata": {},
   "outputs": [],
   "source": [
    "results_df = pd.DataFrame(res).T\n",
    "results_df = results_df.reset_index()\n",
    "results_df = results_df.merge(review_df, how = 'left')"
   ]
  },
  {
   "cell_type": "code",
   "execution_count": 61,
   "id": "34e933b5",
   "metadata": {
    "scrolled": true
   },
   "outputs": [
    {
     "data": {
      "text/html": [
       "<div>\n",
       "<style scoped>\n",
       "    .dataframe tbody tr th:only-of-type {\n",
       "        vertical-align: middle;\n",
       "    }\n",
       "\n",
       "    .dataframe tbody tr th {\n",
       "        vertical-align: top;\n",
       "    }\n",
       "\n",
       "    .dataframe thead th {\n",
       "        text-align: right;\n",
       "    }\n",
       "</style>\n",
       "<table border=\"1\" class=\"dataframe\">\n",
       "  <thead>\n",
       "    <tr style=\"text-align: right;\">\n",
       "      <th></th>\n",
       "      <th>index</th>\n",
       "      <th>neg</th>\n",
       "      <th>neu</th>\n",
       "      <th>pos</th>\n",
       "      <th>Link</th>\n",
       "      <th>Title</th>\n",
       "      <th>Stars</th>\n",
       "      <th>Review</th>\n",
       "      <th>Brand</th>\n",
       "      <th>Product Link</th>\n",
       "    </tr>\n",
       "  </thead>\n",
       "  <tbody>\n",
       "    <tr>\n",
       "      <th>0</th>\n",
       "      <td>0</td>\n",
       "      <td>0.010497</td>\n",
       "      <td>0.116675</td>\n",
       "      <td>0.872828</td>\n",
       "      <td>https://www.tennis-warehouse.com/Asics_Court_FF_2_Black_Green_Gecko_Mens_Shoes/descpageMSASICS-AMCFFBG.html</td>\n",
       "      <td>My favorite tennis shoes</td>\n",
       "      <td>5</td>\n",
       "      <td>I've been trying a few shoes lately (FF Court, new Barricade, and Nike Zoom Cage) and the FFs have been my favorite so far. I pair my shoes with an Aryse ankle brace, and the FF's have been the best at handling my brace in the arch area (although a bit tough to get in at first).\\n\\nI would say break-in time was minimal - maybe a set or less. \\n\\nThe only negative as everyone has mentioned are the laces. But that's easy to fix.</td>\n",
       "      <td>Asics</td>\n",
       "      <td>https://www.tennis-warehouse.com/Asics_Court_FF_2_Black_Green_Gecko_Mens_Shoes/descpageMSASICS-AMCFFBG.html</td>\n",
       "    </tr>\n",
       "    <tr>\n",
       "      <th>1</th>\n",
       "      <td>1</td>\n",
       "      <td>0.001531</td>\n",
       "      <td>0.015846</td>\n",
       "      <td>0.982623</td>\n",
       "      <td>https://www.tennis-warehouse.com/Asics_Gel_Challenger_13_White_Black_Mens_Shoes/descpageMSASICS-AMCH3WB.html</td>\n",
       "      <td>Amazing shoe</td>\n",
       "      <td>5</td>\n",
       "      <td>Very comfortable, amazing shoes!</td>\n",
       "      <td>Asics</td>\n",
       "      <td>https://www.tennis-warehouse.com/Asics_Gel_Challenger_13_White_Black_Mens_Shoes/descpageMSASICS-AMCH3WB.html</td>\n",
       "    </tr>\n",
       "    <tr>\n",
       "      <th>2</th>\n",
       "      <td>2</td>\n",
       "      <td>0.779032</td>\n",
       "      <td>0.209068</td>\n",
       "      <td>0.011899</td>\n",
       "      <td>https://www.tennis-warehouse.com/Asics_Gel_Resolution_8_2E_Blue_Harmony_Wh_Mens_Shoes/descpageMSASICS-AMG8EHW.html</td>\n",
       "      <td>ASICS 2E resolution</td>\n",
       "      <td>1</td>\n",
       "      <td>Not very wide. Still feels narrow by the ankle and heel. Didn't even dare play with them on.</td>\n",
       "      <td>Asics</td>\n",
       "      <td>https://www.tennis-warehouse.com/Asics_Gel_Resolution_8_2E_Blue_Harmony_Wh_Mens_Shoes/descpageMSASICS-AMG8EHW.html</td>\n",
       "    </tr>\n",
       "    <tr>\n",
       "      <th>3</th>\n",
       "      <td>3</td>\n",
       "      <td>0.001224</td>\n",
       "      <td>0.012281</td>\n",
       "      <td>0.986495</td>\n",
       "      <td>https://www.tennis-warehouse.com/Asics_Gel_Resolution_8_2E_Blue_Harmony_Wh_Mens_Shoes/descpageMSASICS-AMG8EHW.html</td>\n",
       "      <td>Asics Shoes</td>\n",
       "      <td>5</td>\n",
       "      <td>This is the second time that I have bought Asics. These are very comfortable, more-so than the Speed FF. The cushioning feels very good. I hope they last a long time.</td>\n",
       "      <td>Asics</td>\n",
       "      <td>https://www.tennis-warehouse.com/Asics_Gel_Resolution_8_2E_Blue_Harmony_Wh_Mens_Shoes/descpageMSASICS-AMG8EHW.html</td>\n",
       "    </tr>\n",
       "    <tr>\n",
       "      <th>4</th>\n",
       "      <td>4</td>\n",
       "      <td>0.001776</td>\n",
       "      <td>0.026636</td>\n",
       "      <td>0.971588</td>\n",
       "      <td>https://www.tennis-warehouse.com/Asics_Gel_Resolution_8_2E_Blue_Harmony_Wh_Mens_Shoes/descpageMSASICS-AMG8EHW.html</td>\n",
       "      <td>Amazing Shoe</td>\n",
       "      <td>5</td>\n",
       "      <td>Great fit, comfortable and stable!</td>\n",
       "      <td>Asics</td>\n",
       "      <td>https://www.tennis-warehouse.com/Asics_Gel_Resolution_8_2E_Blue_Harmony_Wh_Mens_Shoes/descpageMSASICS-AMG8EHW.html</td>\n",
       "    </tr>\n",
       "  </tbody>\n",
       "</table>\n",
       "</div>"
      ],
      "text/plain": [
       "   index       neg       neu       pos  \\\n",
       "0      0  0.010497  0.116675  0.872828   \n",
       "1      1  0.001531  0.015846  0.982623   \n",
       "2      2  0.779032  0.209068  0.011899   \n",
       "3      3  0.001224  0.012281  0.986495   \n",
       "4      4  0.001776  0.026636  0.971588   \n",
       "\n",
       "                                                                                                                 Link  \\\n",
       "0         https://www.tennis-warehouse.com/Asics_Court_FF_2_Black_Green_Gecko_Mens_Shoes/descpageMSASICS-AMCFFBG.html   \n",
       "1        https://www.tennis-warehouse.com/Asics_Gel_Challenger_13_White_Black_Mens_Shoes/descpageMSASICS-AMCH3WB.html   \n",
       "2  https://www.tennis-warehouse.com/Asics_Gel_Resolution_8_2E_Blue_Harmony_Wh_Mens_Shoes/descpageMSASICS-AMG8EHW.html   \n",
       "3  https://www.tennis-warehouse.com/Asics_Gel_Resolution_8_2E_Blue_Harmony_Wh_Mens_Shoes/descpageMSASICS-AMG8EHW.html   \n",
       "4  https://www.tennis-warehouse.com/Asics_Gel_Resolution_8_2E_Blue_Harmony_Wh_Mens_Shoes/descpageMSASICS-AMG8EHW.html   \n",
       "\n",
       "                      Title  Stars  \\\n",
       "0  My favorite tennis shoes      5   \n",
       "1              Amazing shoe      5   \n",
       "2       ASICS 2E resolution      1   \n",
       "3               Asics Shoes      5   \n",
       "4              Amazing Shoe      5   \n",
       "\n",
       "                                                                                                                                                                                                                                                                                                                                                                                                                                           Review  \\\n",
       "0  I've been trying a few shoes lately (FF Court, new Barricade, and Nike Zoom Cage) and the FFs have been my favorite so far. I pair my shoes with an Aryse ankle brace, and the FF's have been the best at handling my brace in the arch area (although a bit tough to get in at first).\\n\\nI would say break-in time was minimal - maybe a set or less. \\n\\nThe only negative as everyone has mentioned are the laces. But that's easy to fix.   \n",
       "1                                                                                                                                                                                                                                                                                                                                                                                                                Very comfortable, amazing shoes!   \n",
       "2                                                                                                                                                                                                                                                                                                                                                    Not very wide. Still feels narrow by the ankle and heel. Didn't even dare play with them on.   \n",
       "3                                                                                                                                                                                                                                                                          This is the second time that I have bought Asics. These are very comfortable, more-so than the Speed FF. The cushioning feels very good. I hope they last a long time.   \n",
       "4                                                                                                                                                                                                                                                                                                                                                                                                              Great fit, comfortable and stable!   \n",
       "\n",
       "   Brand  \\\n",
       "0  Asics   \n",
       "1  Asics   \n",
       "2  Asics   \n",
       "3  Asics   \n",
       "4  Asics   \n",
       "\n",
       "                                                                                                         Product Link  \n",
       "0         https://www.tennis-warehouse.com/Asics_Court_FF_2_Black_Green_Gecko_Mens_Shoes/descpageMSASICS-AMCFFBG.html  \n",
       "1        https://www.tennis-warehouse.com/Asics_Gel_Challenger_13_White_Black_Mens_Shoes/descpageMSASICS-AMCH3WB.html  \n",
       "2  https://www.tennis-warehouse.com/Asics_Gel_Resolution_8_2E_Blue_Harmony_Wh_Mens_Shoes/descpageMSASICS-AMG8EHW.html  \n",
       "3  https://www.tennis-warehouse.com/Asics_Gel_Resolution_8_2E_Blue_Harmony_Wh_Mens_Shoes/descpageMSASICS-AMG8EHW.html  \n",
       "4  https://www.tennis-warehouse.com/Asics_Gel_Resolution_8_2E_Blue_Harmony_Wh_Mens_Shoes/descpageMSASICS-AMG8EHW.html  "
      ]
     },
     "execution_count": 61,
     "metadata": {},
     "output_type": "execute_result"
    }
   ],
   "source": [
    "results_df.head()"
   ]
  },
  {
   "cell_type": "code",
   "execution_count": 62,
   "id": "36146b7f",
   "metadata": {},
   "outputs": [],
   "source": [
    "def sentiment_label(df):\n",
    "    if df['neg'] > df['pos'] and df['neg'] > df['neu']:\n",
    "        return 'Negative'\n",
    "    elif df['pos'] > df['neg'] and df['pos'] > df['neu']:\n",
    "        return 'Positive'\n",
    "    else:\n",
    "        return 'Neutral'"
   ]
  },
  {
   "cell_type": "code",
   "execution_count": 63,
   "id": "36c83648",
   "metadata": {},
   "outputs": [],
   "source": [
    "results_df['Sentiment'] = results_df.apply(sentiment_label, axis = 1)"
   ]
  },
  {
   "cell_type": "markdown",
   "id": "6f3bb7ea",
   "metadata": {},
   "source": [
    "### What is the sentiment breakdown of the reviews?"
   ]
  },
  {
   "cell_type": "code",
   "execution_count": 64,
   "id": "e9162761",
   "metadata": {},
   "outputs": [],
   "source": [
    "sentiment_count = pd.DataFrame(results_df.groupby('Sentiment')['Review'].count().reset_index())"
   ]
  },
  {
   "cell_type": "code",
   "execution_count": 65,
   "id": "d5f76884",
   "metadata": {},
   "outputs": [
    {
     "data": {
      "image/png": "[encoded data removed]",
      "text/plain": [
       "<Figure size 432x432 with 1 Axes>"
      ]
     },
     "metadata": {},
     "output_type": "display_data"
    }
   ],
   "source": [
    "fig = plt.figure(figsize=(6,6))\n",
    "results_df['Sentiment'].value_counts().plot(kind='pie', autopct='%1.0f%%', colors=['#01b8aa','#fd625e','lightgrey'], fontsize = 12)\n",
    "plt.title('% of Reviews by Sentiment', fontsize=14)\n",
    "plt.axis('off')\n",
    "plt.show()"
   ]
  },
  {
   "cell_type": "markdown",
   "id": "b940a8c7",
   "metadata": {},
   "source": [
    "### Which brands have the most positive reviews? "
   ]
  },
  {
   "cell_type": "code",
   "execution_count": 69,
   "id": "bc6e989f",
   "metadata": {
    "scrolled": true
   },
   "outputs": [],
   "source": [
    "brand_pos = pd.DataFrame(results_df.groupby('Brand')['pos'].mean().reset_index().sort_values(by='pos', ascending=False))"
   ]
  },
  {
   "cell_type": "code",
   "execution_count": 70,
   "id": "fedfbce6",
   "metadata": {},
   "outputs": [
    {
     "data": {
      "image/png": "[encoded data removed]",
      "text/plain": [
       "<Figure size 576x576 with 1 Axes>"
      ]
     },
     "metadata": {},
     "output_type": "display_data"
    }
   ],
   "source": [
    "fig = plt.figure(figsize=(8,8))\n",
    "plt.barh(brand_pos['Brand'], brand_pos['pos'], color = '#01b8aa', height = .5)\n",
    "for i, v in enumerate(brand_pos['pos']):\n",
    "    plt.text(v+.01, i, str(round(v*100))+str('%'), color = 'black')\n",
    "plt.xlim([0,1])\n",
    "plt.title('Avg Review Positivity Score by Brand', fontsize=14)\n",
    "plt.show()"
   ]
  },
  {
   "cell_type": "markdown",
   "id": "19faeebc",
   "metadata": {},
   "source": [
    "### Which brands have the most negative reviews?"
   ]
  },
  {
   "cell_type": "code",
   "execution_count": 71,
   "id": "7d231c75",
   "metadata": {},
   "outputs": [],
   "source": [
    "brand_neg = pd.DataFrame(results_df.groupby('Brand')['neg'].mean().reset_index().sort_values(by='neg', ascending=False))"
   ]
  },
  {
   "cell_type": "code",
   "execution_count": 72,
   "id": "a3a9c112",
   "metadata": {},
   "outputs": [
    {
     "data": {
      "image/png": "[encoded data removed]",
      "text/plain": [
       "<Figure size 576x576 with 1 Axes>"
      ]
     },
     "metadata": {},
     "output_type": "display_data"
    }
   ],
   "source": [
    "fig = plt.figure(figsize=(8,8))\n",
    "plt.barh(brand_neg['Brand'], brand_neg['neg'], color = '#fd625e', height = .5)\n",
    "for i, v in enumerate(brand_neg['neg']):\n",
    "    plt.text(v+.01, i, str(round(v*100))+str('%'), color = 'black')\n",
    "plt.xlim([0,1])\n",
    "plt.title('Avg Review Negativity Score by Brand', fontsize=14)\n",
    "plt.show()"
   ]
  },
  {
   "cell_type": "markdown",
   "id": "312ce158",
   "metadata": {},
   "source": [
    "### Comparing Positivity and Negativity Scores with Customer Ratings\n",
    "Do the sentiment scores match up with the customer-given ratings?"
   ]
  },
  {
   "cell_type": "code",
   "execution_count": 73,
   "id": "fdd88243",
   "metadata": {},
   "outputs": [
    {
     "data": {
      "image/png": "[encoded data removed]",
      "text/plain": [
       "<Figure size 432x432 with 1 Axes>"
      ]
     },
     "metadata": {},
     "output_type": "display_data"
    }
   ],
   "source": [
    "fig = plt.figure(figsize=(6,6))\n",
    "plt.scatter(results_df['Stars'], results_df['pos'])\n",
    "plt.xticks([1,2,3,4,5])\n",
    "plt.axhline(0.5, color = 'r')\n",
    "plt.title('Positivity Score vs Customer Rating', fontsize = 14)\n",
    "plt.show()"
   ]
  },
  {
   "cell_type": "code",
   "execution_count": 74,
   "id": "9e45ce65",
   "metadata": {},
   "outputs": [
    {
     "data": {
      "image/png": "[encoded data removed]",
      "text/plain": [
       "<Figure size 432x432 with 1 Axes>"
      ]
     },
     "metadata": {},
     "output_type": "display_data"
    }
   ],
   "source": [
    "fig = plt.figure(figsize=(6,6))\n",
    "plt.scatter(results_df['Stars'], results_df['neg'])\n",
    "plt.xticks([1,2,3,4,5])\n",
    "plt.axhline(0.5, color = 'r')\n",
    "plt.title('Negativity Score vs Customer Rating', fontsize = 14)\n",
    "plt.show()"
   ]
  },
  {
   "cell_type": "code",
   "execution_count": 75,
   "id": "f4f20511",
   "metadata": {},
   "outputs": [],
   "source": [
    "#shoe_df.to_csv(r'Documents\\Tennis Shoes.csv')"
   ]
  },
  {
   "cell_type": "code",
   "execution_count": 76,
   "id": "64e52fe4",
   "metadata": {},
   "outputs": [],
   "source": [
    "#review_df.to_csv(r'Documents\\Shoe Reviews.csv')"
   ]
  }
 ],
 "metadata": {
  "kernelspec": {
   "display_name": "Python 3 (ipykernel)",
   "language": "python",
   "name": "python3"
  },
  "language_info": {
   "codemirror_mode": {
    "name": "ipython",
    "version": 3
   },
   "file_extension": ".py",
   "mimetype": "text/x-python",
   "name": "python",
   "nbconvert_exporter": "python",
   "pygments_lexer": "ipython3",
   "version": "3.9.7"
  }
 },
 "nbformat": 4,
 "nbformat_minor": 5
}
